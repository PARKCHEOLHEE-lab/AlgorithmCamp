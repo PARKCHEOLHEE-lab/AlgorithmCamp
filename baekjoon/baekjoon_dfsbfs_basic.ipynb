{
 "cells": [
  {
   "cell_type": "code",
   "execution_count": 68,
   "metadata": {},
   "outputs": [
    {
     "data": {
      "text/plain": [
       "[[0, 0, 0, 0, 0],\n",
       " [0, 0, 0, 0, 0],\n",
       " [0, 0, 0, 0, 0],\n",
       " [0, 0, 0, 0, 0],\n",
       " [0, 0, 0, 0, 0]]"
      ]
     },
     "execution_count": 68,
     "metadata": {},
     "output_type": "execute_result"
    }
   ],
   "source": [
    "N = 4\n",
    "[[0] * (N + 1) for _ in range(N + 1)]"
   ]
  },
  {
   "cell_type": "code",
   "execution_count": 99,
   "metadata": {
    "scrolled": false
   },
   "outputs": [
    {
     "name": "stdout",
     "output_type": "stream",
     "text": [
      "4 5 1\n",
      "1 2\n",
      "1 3\n",
      "1 4\n",
      "2 4\n",
      "3 4\n"
     ]
    }
   ],
   "source": [
    "N, M, V = map(int, input().split())\n",
    "matrix = [[0] * (N + 1) for _ in range(N + 1)]\n",
    "for _ in range(M):\n",
    "    link = list(map(int, input().split()))\n",
    "    matrix[link[0]][link[1]] = 1\n",
    "    matrix[link[1]][link[0]] = 1"
   ]
  },
  {
   "cell_type": "code",
   "execution_count": 79,
   "metadata": {
    "scrolled": true
   },
   "outputs": [
    {
     "data": {
      "text/plain": [
       "[[0, 0, 0, 0, 0],\n",
       " [0, 0, 1, 1, 1],\n",
       " [0, 1, 0, 0, 1],\n",
       " [0, 1, 0, 0, 1],\n",
       " [0, 1, 1, 1, 0]]"
      ]
     },
     "execution_count": 79,
     "metadata": {},
     "output_type": "execute_result"
    }
   ],
   "source": [
    "matrix"
   ]
  },
  {
   "cell_type": "code",
   "execution_count": 110,
   "metadata": {},
   "outputs": [
    {
     "name": "stdout",
     "output_type": "stream",
     "text": [
      "4 5 1\n",
      "1 2\n",
      "1 3\n",
      "1 4\n",
      "2 4\n",
      "3 4\n"
     ]
    }
   ],
   "source": [
    "N, M, V = map(int, input().split())\n",
    "matrix = [[0] * (N+1) for _ in range(N+1)]\n",
    "\n",
    "for _ in range(M):\n",
    "    conn = list(map(int, input().split()))\n",
    "    matrix[conn[0]][conn[1]] = 1\n",
    "    matrix[conn[1]][conn[0]] = 1    "
   ]
  },
  {
   "cell_type": "code",
   "execution_count": 111,
   "metadata": {},
   "outputs": [
    {
     "data": {
      "text/plain": [
       "[[0, 0, 0, 0, 0],\n",
       " [0, 0, 1, 1, 1],\n",
       " [0, 1, 0, 0, 1],\n",
       " [0, 1, 0, 0, 1],\n",
       " [0, 1, 1, 1, 0]]"
      ]
     },
     "execution_count": 111,
     "metadata": {},
     "output_type": "execute_result"
    }
   ],
   "source": [
    "matrix"
   ]
  },
  {
   "cell_type": "code",
   "execution_count": 158,
   "metadata": {
    "scrolled": true
   },
   "outputs": [
    {
     "name": "stdout",
     "output_type": "stream",
     "text": [
      "1 2 4 3\n"
     ]
    }
   ],
   "source": [
    "def dfs(current_node, row, foot_prints):\n",
    "    foot_prints += [current_node]\n",
    "    for search_node in range(len(row[current_node])):\n",
    "        if row[current_node][search_node] and search_node not in foot_prints:\n",
    "            foot_prints = dfs(search_node, row, foot_prints)\n",
    "    return foot_prints\n",
    "\n",
    "print(*dfs(V, matrix, []))"
   ]
  },
  {
   "cell_type": "code",
   "execution_count": 159,
   "metadata": {},
   "outputs": [],
   "source": [
    "matrix = [[0, 0, 0, 0, 0],\n",
    " [0, 0, 1, 1, 1],\n",
    " [0, 1, 0, 0, 1],\n",
    " [0, 1, 0, 0, 1],\n",
    " [0, 1, 1, 1, 0]]"
   ]
  },
  {
   "cell_type": "code",
   "execution_count": 160,
   "metadata": {},
   "outputs": [],
   "source": [
    "matrix = [[0, 0, 0, 0, 0],\n",
    " [0, 0, 1, 1, 1],\n",
    " [0, 1, 0, 0, 1],\n",
    " [0, 1, 0, 0, 1],\n",
    " [0, 1, 1, 1, 0]]\n",
    "\n",
    "foot_prints = []\n",
    "current_node = 1\n",
    "row = matrix\n",
    "\n",
    "foot_prints += [current_node]\n",
    "for search_node in range(len(row)):\n",
    "    if row[current_node][search_node] and search_node not in foot_prints:\n",
    "        foot_prints = dfs(search_node, row, foot_prints)\n"
   ]
  },
  {
   "cell_type": "code",
   "execution_count": 161,
   "metadata": {},
   "outputs": [
    {
     "name": "stdout",
     "output_type": "stream",
     "text": [
      "1 2 4 3\n"
     ]
    }
   ],
   "source": [
    "print(*foot_prints)"
   ]
  },
  {
   "cell_type": "code",
   "execution_count": 147,
   "metadata": {},
   "outputs": [
    {
     "name": "stdout",
     "output_type": "stream",
     "text": [
      "0\n",
      "1\n",
      "2\n",
      "3\n",
      "4\n"
     ]
    }
   ],
   "source": [
    "for search_node in range(len(row)):\n",
    "    print(search_node)"
   ]
  },
  {
   "cell_type": "code",
   "execution_count": 148,
   "metadata": {},
   "outputs": [
    {
     "name": "stdout",
     "output_type": "stream",
     "text": [
      "0\n",
      "1\n",
      "2\n",
      "3\n",
      "4\n"
     ]
    }
   ],
   "source": [
    "for search_node in range(len(row[current_node])):\n",
    "    print(search_node)"
   ]
  },
  {
   "cell_type": "code",
   "execution_count": 164,
   "metadata": {},
   "outputs": [
    {
     "data": {
      "text/plain": [
       "120"
      ]
     },
     "execution_count": 164,
     "metadata": {},
     "output_type": "execute_result"
    }
   ],
   "source": [
    "def factorial_recursive(n):\n",
    "    if n <= 1: # n이 1 이하인 경우 1을 반환\n",
    "        return 1\n",
    "    # n! = n * (n - 1)!를 그대로 코드로 작성하기\n",
    "    return n * factorial_recursive(n - 1)\n",
    "\n",
    "factorial_recursive(5)"
   ]
  }
 ],
 "metadata": {
  "kernelspec": {
   "display_name": "Python 3",
   "language": "python",
   "name": "python3"
  },
  "language_info": {
   "codemirror_mode": {
    "name": "ipython",
    "version": 3
   },
   "file_extension": ".py",
   "mimetype": "text/x-python",
   "name": "python",
   "nbconvert_exporter": "python",
   "pygments_lexer": "ipython3",
   "version": "3.8.5"
  }
 },
 "nbformat": 4,
 "nbformat_minor": 4
}
