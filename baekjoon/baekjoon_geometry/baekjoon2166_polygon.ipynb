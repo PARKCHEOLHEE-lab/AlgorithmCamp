{
 "cells": [
  {
   "cell_type": "code",
   "execution_count": 152,
   "metadata": {},
   "outputs": [
    {
     "name": "stdout",
     "output_type": "stream",
     "text": [
      "4\n",
      "0 0\n",
      "0 10\n",
      "10 10\n",
      "10 0\n",
      "100.0\n"
     ]
    }
   ],
   "source": [
    "# runtime error\n",
    "\n",
    "coordinate = []\n",
    "N = int(input())\n",
    "for _ in range(N):\n",
    "    X, Y = list(map(int, input().split()))\n",
    "    coordinate.append([X, Y])\n",
    "    \n",
    "v1 = 0\n",
    "v2 = 0\n",
    "\n",
    "for i in range(len(f)):\n",
    "    if f[i] == f[-1]:\n",
    "        v1 += f[i][0] * f[0][1]\n",
    "        v2 += f[i][1] * f[0][0]\n",
    "        \n",
    "    else:\n",
    "        v1 += f[i][0] * f[i+1][1]\n",
    "        v2 += f[i][1] * f[i+1][0]\n",
    "\n",
    "print(abs((v1-v2)/2))"
   ]
  },
  {
   "cell_type": "code",
   "execution_count": 142,
   "metadata": {},
   "outputs": [
    {
     "name": "stdout",
     "output_type": "stream",
     "text": [
      "100.0\n"
     ]
    }
   ],
   "source": [
    "# test code\n",
    "\n",
    "a = [0, 0]\n",
    "b = [0, 10]\n",
    "c = [10, 10]\n",
    "d = [10, 0]\n",
    "\n",
    "f = [a, b, c, d]\n",
    "v1 = 0\n",
    "v2 = 0\n",
    "\n",
    "for i in range(len(f)):\n",
    "    if f[i] == f[-1]:\n",
    "        v1 += f[i][0] * f[0][1]\n",
    "        v2 += f[i][1] * f[0][0]\n",
    "        \n",
    "    else:\n",
    "        v1 += f[i][0] * f[i+1][1]\n",
    "        v2 += f[i][1] * f[i+1][0]\n",
    "\n",
    "print(abs((v1-v2)/2))"
   ]
  },
  {
   "cell_type": "code",
   "execution_count": 153,
   "metadata": {},
   "outputs": [
    {
     "name": "stdout",
     "output_type": "stream",
     "text": [
      "60.0\n"
     ]
    }
   ],
   "source": [
    "# test code\n",
    "\n",
    "a = [-3, -2]\n",
    "b = [-1, 4]\n",
    "c = [6, 1]\n",
    "d = [3, 10]\n",
    "e = [-4, 9]\n",
    "\n",
    "f = [a, b, c, d, e]\n",
    "v1 = 0\n",
    "v2 = 0\n",
    "\n",
    "for i in range(len(f)):\n",
    "    if f[i] == f[-1]:\n",
    "        v1 += f[i][0] * f[0][1]\n",
    "        v2 += f[i][1] * f[0][0]\n",
    "        \n",
    "    else:\n",
    "        v1 += f[i][0] * f[i+1][1]\n",
    "        v2 += f[i][1] * f[i+1][0]\n",
    "\n",
    "print((v1-v2)/2)"
   ]
  }
 ],
 "metadata": {
  "kernelspec": {
   "display_name": "Python 3",
   "language": "python",
   "name": "python3"
  },
  "language_info": {
   "codemirror_mode": {
    "name": "ipython",
    "version": 3
   },
   "file_extension": ".py",
   "mimetype": "text/x-python",
   "name": "python",
   "nbconvert_exporter": "python",
   "pygments_lexer": "ipython3",
   "version": "3.8.5"
  },
  "toc": {
   "base_numbering": 1,
   "nav_menu": {},
   "number_sections": true,
   "sideBar": true,
   "skip_h1_title": false,
   "title_cell": "Table of Contents",
   "title_sidebar": "Contents",
   "toc_cell": false,
   "toc_position": {},
   "toc_section_display": true,
   "toc_window_display": false
  }
 },
 "nbformat": 4,
 "nbformat_minor": 4
}
