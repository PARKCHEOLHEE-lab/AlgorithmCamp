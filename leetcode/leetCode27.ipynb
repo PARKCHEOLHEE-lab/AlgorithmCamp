{
 "cells": [
  {
   "cell_type": "markdown",
   "metadata": {},
   "source": [
    "![image](https://user-images.githubusercontent.com/83874157/130807175-61eecba1-7bde-4e97-93c9-5defb3a918e0.png)"
   ]
  },
  {
   "cell_type": "code",
   "execution_count": 91,
   "metadata": {},
   "outputs": [
    {
     "data": {
      "text/plain": [
       "(5, [0, 1, 3, 0, 4, 2, 2, 2])"
      ]
     },
     "execution_count": 91,
     "metadata": {},
     "output_type": "execute_result"
    }
   ],
   "source": [
    "from typing import List\n",
    "\n",
    "# nums = [3,2,2,3]\n",
    "# val = 3\n",
    "\n",
    "nums = [0,1,2,2,3,0,4,2]\n",
    "val = 2\n",
    "\n",
    "class Solution:\n",
    "    def removeElement(self, nums: List[int], val: int) -> int:\n",
    "        \n",
    "        val_storage = []\n",
    "        while val in nums:\n",
    "            nums.remove(val)\n",
    "            val_storage.append(val)\n",
    "        \n",
    "        answer = len(nums)\n",
    "        nums = nums + val_storage\n",
    "        \n",
    "        return answer, nums\n",
    "    \n",
    "Solution().removeElement(nums, val)"
   ]
  },
  {
   "cell_type": "code",
   "execution_count": 92,
   "metadata": {},
   "outputs": [
    {
     "data": {
      "text/plain": [
       "(5, [0, 1, 3, 0, 4, 0, 4, 2])"
      ]
     },
     "execution_count": 92,
     "metadata": {},
     "output_type": "execute_result"
    }
   ],
   "source": [
    "from typing import List\n",
    "\n",
    "# nums = [3,2,2,3]\n",
    "# val = 3\n",
    "\n",
    "nums = [0,1,2,2,3,0,4,2]\n",
    "val = 2\n",
    "\n",
    "class Solution:\n",
    "    def removeElement(self, nums: List[int], val: int) -> int:\n",
    "        \n",
    "        index = 0\n",
    "        for n in nums:\n",
    "            if n != val:\n",
    "                nums[index] = n\n",
    "                index += 1\n",
    "        \n",
    "        return index, nums\n",
    "    \n",
    "Solution().removeElement(nums, val)"
   ]
  }
 ],
 "metadata": {
  "kernelspec": {
   "display_name": "Python 3",
   "language": "python",
   "name": "python3"
  },
  "language_info": {
   "codemirror_mode": {
    "name": "ipython",
    "version": 3
   },
   "file_extension": ".py",
   "mimetype": "text/x-python",
   "name": "python",
   "nbconvert_exporter": "python",
   "pygments_lexer": "ipython3",
   "version": "3.8.5"
  }
 },
 "nbformat": 4,
 "nbformat_minor": 4
}
