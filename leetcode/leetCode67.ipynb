{
 "cells": [
  {
   "cell_type": "markdown",
   "metadata": {},
   "source": [
    "![image](https://user-images.githubusercontent.com/83874157/130978851-4979d00b-460b-4cb9-8f61-e579963cab66.png)"
   ]
  },
  {
   "cell_type": "code",
   "execution_count": 160,
   "metadata": {},
   "outputs": [
    {
     "data": {
      "text/plain": [
       "'10101'"
      ]
     },
     "execution_count": 160,
     "metadata": {},
     "output_type": "execute_result"
    }
   ],
   "source": [
    "# 2진수 계산 파이썬 내장함수 사용\n",
    "\n",
    "a = '1010'\n",
    "b = '1011'\n",
    "\n",
    "class Solution:\n",
    "    def addBinary(self, a: str, b: str) -> str:\n",
    "        \n",
    "        A = int(a, 2)\n",
    "        B = int(b, 2)\n",
    "        \n",
    "        return bin(A+B)[2:]\n",
    "    \n",
    "Solution().addBinary(a,b)"
   ]
  },
  {
   "cell_type": "code",
   "execution_count": 211,
   "metadata": {},
   "outputs": [
    {
     "data": {
      "text/plain": [
       "'1001'"
      ]
     },
     "execution_count": 211,
     "metadata": {},
     "output_type": "execute_result"
    }
   ],
   "source": [
    "a = '1000'\n",
    "b = '0001'\n",
    "\n",
    "class Solution:\n",
    "    def addBinary(self, a: str, b: str) -> str:\n",
    "        \n",
    "        zero = abs(len(a)-len(b)) * '0'\n",
    "        \n",
    "        if len(a) > len(b):\n",
    "            b = zero + b\n",
    "            \n",
    "        elif len(a) < len(b):\n",
    "            a = zero + a\n",
    "        \n",
    "        answer = ''\n",
    "        carry = 0\n",
    "        \n",
    "        for i in range(len(a)-1, -1, -1):\n",
    "            bin_a, bin_b = int(a[i]), int(b[i])\n",
    "            bin_sum = bin_a + bin_b + carry\n",
    "            \n",
    "            if bin_sum == 2:\n",
    "                carry = 1\n",
    "                answer = '0' + answer\n",
    "                \n",
    "            elif bin_sum == 3:\n",
    "                carry = 1\n",
    "                answer = '1' + answer\n",
    "                \n",
    "            elif bin_sum == 0 or bin_sum == 1:\n",
    "                answer = str(bin_sum) + answer\n",
    "                carry = 0\n",
    "        \n",
    "        if carry == 1:\n",
    "            answer = '1' + answer\n",
    "        \n",
    "        return answer\n",
    "        \n",
    "print(Solution().addBinary(a, b))"
   ]
  }
 ],
 "metadata": {
  "kernelspec": {
   "display_name": "Python 3",
   "language": "python",
   "name": "python3"
  },
  "language_info": {
   "codemirror_mode": {
    "name": "ipython",
    "version": 3
   },
   "file_extension": ".py",
   "mimetype": "text/x-python",
   "name": "python",
   "nbconvert_exporter": "python",
   "pygments_lexer": "ipython3",
   "version": "3.8.5"
  }
 },
 "nbformat": 4,
 "nbformat_minor": 4
}
