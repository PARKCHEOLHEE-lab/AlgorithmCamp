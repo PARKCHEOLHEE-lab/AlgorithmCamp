{
 "cells": [
  {
   "cell_type": "markdown",
   "metadata": {},
   "source": [
    "# Study ▼"
   ]
  },
  {
   "cell_type": "markdown",
   "metadata": {},
   "source": [
    "## Data Structure - `Linked List`\n",
    "- **Linked List의 구조**\n",
    "> 1. List는 **`Node(Element)`**들의 집합이다.<br><br>\n",
    "> 2. Node는 두 가지의 정보를 가진다. (노드의 값과 다음 노드의 값)   \n",
    "> (각각의 노드가 **다음 노드에 대한 정보**를 가지고 있기 때문에 하나로 연결 가능하다.)<br><br>\n",
    "> 3. 아래 그림에서 **`Data field`**는 노드의 값이 저장된 변수 **`value`**를 의미하고 **`Link field`**는 다음 노드의 값이 저장된 변수 **`next`**를 의미<br><br>\n",
    "> 4. **`Head`**는 Linked List의 첫 번째 노드. 시작지점을 알아야 연결된 각각의 노드를 찾아갈 수 있다.<br><br> \n",
    "> 5. 연결되는 방향에 따라 **`Singly` · `Doubly` · `Circular`** Linked List로 구분\n",
    "\n",
    "![image.png](https://user-images.githubusercontent.com/83874157/130062314-7b1e2a53-8e50-4557-b342-a2c109aff410.png)\n",
    "\n"
   ]
  },
  {
   "cell_type": "markdown",
   "metadata": {},
   "source": [
    "## `Linked List` 구현\n",
    "- **[reference](https://velog.io/@woga1999/%ED%8C%8C%EC%9D%B4%EC%8D%AC%EC%9C%BC%EB%A1%9C-%EA%B5%AC%ED%98%84%ED%95%98%EB%8A%94-%EB%A7%81%ED%81%AC%EB%93%9C-%EB%A6%AC%EC%8A%A4%ED%8A%B8)**"
   ]
  },
  {
   "cell_type": "code",
   "execution_count": 153,
   "metadata": {},
   "outputs": [],
   "source": [
    "class Node:\n",
    "    def __init__(self, val=0, next=None):\n",
    "        self.val = val\n",
    "        self.next = next\n",
    "        \n",
    "class LinkedList:\n",
    "    def __init__(self, val):\n",
    "        self.head = Node(val)\n",
    "        \n",
    "    def append(self, val):\n",
    "        \n",
    "        '''\n",
    "            LinkedList 생성자에서 선언한 `Node`의 가장 첫 번째 값인 \n",
    "            `head` 에서부터 탐색을 시작하여 `curr`(current node)의 \n",
    "            `next`가 None이면 그 자리에 새 노드를 삽입\n",
    "        '''\n",
    "        \n",
    "        curr = self.head\n",
    "        while curr.next is not None:  \n",
    "            curr = curr.next\n",
    "        curr.next = Node(val)\n",
    "        \n",
    "    def printNode(self):\n",
    "        curr = self.head\n",
    "        nodeList = []\n",
    "        while curr is not None:\n",
    "            nodeList.append(curr.val)\n",
    "            curr = curr.next\n",
    "            \n",
    "        return nodeList\n"
   ]
  },
  {
   "cell_type": "code",
   "execution_count": 157,
   "metadata": {},
   "outputs": [
    {
     "name": "stdout",
     "output_type": "stream",
     "text": [
      "1 2 4\n",
      "[1, 2, 4]\n"
     ]
    }
   ],
   "source": [
    "l1 = LinkedList(1)\n",
    "l1.append(2)\n",
    "l1.append(4)\n",
    "\n",
    "print(l1.head.val, l1.head.next.val, l1.head.next.next.val)\n",
    "print(l1.printNode())"
   ]
  },
  {
   "cell_type": "markdown",
   "metadata": {},
   "source": [
    "***leetCode page에서 `print(l1)`을 했을 때 아래와 같은 값이 출력된다. easy난이도라 이미 구현된 Linked List 기능을 활용하기만 하면 되는듯 하다.***\n",
    "\n",
    "```\n",
    "ListNode{val: 1, next: ListNode{val: 2, next: ListNode{val: 4, next: None}}}\n",
    "```"
   ]
  },
  {
   "cell_type": "markdown",
   "metadata": {},
   "source": [
    "─────────────────────────────────────────────────────────────────────────────────────────────────"
   ]
  },
  {
   "cell_type": "markdown",
   "metadata": {},
   "source": [
    "   \n",
    "   \n",
    "```\n",
    "l1 = LinkedList(1)\n",
    "l1.append(2)\n",
    "l1.append(4)\n",
    "\n",
    "위 3줄의 코드는 아래의 구조로 설명할 수 있다.\n",
    "ListNode{val: 1, next: ListNode{val: 2, next: ListNode{val: 4, next: None}}}\n",
    "``` "
   ]
  },
  {
   "cell_type": "markdown",
   "metadata": {},
   "source": [
    "─────────────────────────────────────────────────────────────────────────────────────────────────"
   ]
  },
  {
   "cell_type": "markdown",
   "metadata": {},
   "source": [
    "# leetCode Problem ▼"
   ]
  },
  {
   "cell_type": "markdown",
   "metadata": {},
   "source": [
    "- **leetCode21 : Merge Two Sorted Lists 문제에 적용시켜 생각해보기 ▼**\n",
    "> 1. Singly Linked List에 해당\n"
   ]
  },
  {
   "cell_type": "markdown",
   "metadata": {},
   "source": [
    "![image.png](https://user-images.githubusercontent.com/83874157/130064111-6c65eab5-e726-4459-9448-eb6a42f2a230.png)"
   ]
  },
  {
   "cell_type": "code",
   "execution_count": 24,
   "metadata": {
    "scrolled": true
   },
   "outputs": [
    {
     "data": {
      "text/plain": [
       "1"
      ]
     },
     "execution_count": 24,
     "metadata": {},
     "output_type": "execute_result"
    }
   ],
   "source": [
    "l1 = [1,2,4]\n",
    "l2 = [1,3,4]\n",
    "\n",
    "class ListNode:\n",
    "    def __init__(self, val=0, next=None):\n",
    "        self.val = val\n",
    "        self.next = next\n",
    "        \n",
    "class Solution:\n",
    "    def mergeTwoLists(self, l1: ListNode, l2: ListNode) -> ListNode:\n",
    "        \n",
    "        head = min(sorted(l1+l2))  # output이 오름차순으로 정렬된 리스트이므로 \n",
    "        head = ListNode(head)      # 두 리스트 중 가장 작은 값을 head 변수에 대입\n",
    "            \n",
    "        return head.val\n",
    "        \n",
    "Solution().mergeTwoLists(l1, l2)"
   ]
  },
  {
   "cell_type": "code",
   "execution_count": 26,
   "metadata": {
    "scrolled": true
   },
   "outputs": [
    {
     "data": {
      "text/plain": [
       "[1, 2, 4]"
      ]
     },
     "execution_count": 26,
     "metadata": {},
     "output_type": "execute_result"
    }
   ],
   "source": [
    "ListNode(l1).val"
   ]
  }
 ],
 "metadata": {
  "kernelspec": {
   "display_name": "Python 3",
   "language": "python",
   "name": "python3"
  },
  "language_info": {
   "codemirror_mode": {
    "name": "ipython",
    "version": 3
   },
   "file_extension": ".py",
   "mimetype": "text/x-python",
   "name": "python",
   "nbconvert_exporter": "python",
   "pygments_lexer": "ipython3",
   "version": "3.8.5"
  }
 },
 "nbformat": 4,
 "nbformat_minor": 4
}
