{
 "cells": [
  {
   "cell_type": "markdown",
   "metadata": {},
   "source": [
    "![image](https://user-images.githubusercontent.com/83874157/130956249-4b2492f2-8548-4c73-9c08-c3614f294c66.png)"
   ]
  },
  {
   "cell_type": "markdown",
   "metadata": {},
   "source": [
    "### Maximum Subarray : nums array 내부에서 이어진 값들을 더한 것 중 가장 큰 값\n",
    "\n",
    "    check = nums[0] <= -2\n",
    "    nums = [-2,1,-3,4,-1,2,1,-5,4]\n",
    "    answer = [nums[0]]\n",
    "    \n",
    "    i = 1, i < 9, i += 1\n",
    "    \n",
    "    경우 1. nums[i]+check의 값이 nums[i] 보다 크다면 check의 값을 nums[i]+check로 대입\n",
    "    경우 2. nums[i]+check의 값이 nums[i] 보다 작다면 check의 값을 nums[i]로 대입\n",
    "    \n",
    "    경우 2에 의해 Subarray중 가장 큰 값을 구할 수 있음\n",
    "    \n",
    "    answer = [-2,1,-2,4,3,5,6,1,5]\n",
    "    max(answer) <= 6\n",
    "    \n",
    "    "
   ]
  },
  {
   "cell_type": "code",
   "execution_count": 41,
   "metadata": {},
   "outputs": [
    {
     "data": {
      "text/plain": [
       "1"
      ]
     },
     "execution_count": 41,
     "metadata": {},
     "output_type": "execute_result"
    }
   ],
   "source": [
    "from typing import List\n",
    "\n",
    "\n",
    "nums = [-2,1,-3,4,-1,2,1,-5,4]\n",
    "nums = [1]\n",
    "\n",
    "class Solution:\n",
    "    def maxSubArray(self, nums: List[int]) -> int:\n",
    "        \n",
    "        answer = [nums[0]]\n",
    "        check = nums[0]\n",
    "        nums = nums[1:]\n",
    "        \n",
    "        for n in nums:\n",
    "            check = max(check+n, n)\n",
    "            answer.append(check)\n",
    "        \n",
    "        return max(answer)\n",
    "    \n",
    "Solution().maxSubArray(nums)"
   ]
  },
  {
   "cell_type": "code",
   "execution_count": 32,
   "metadata": {},
   "outputs": [
    {
     "data": {
      "text/plain": [
       "-1"
      ]
     },
     "execution_count": 32,
     "metadata": {},
     "output_type": "execute_result"
    }
   ],
   "source": [
    "from typing import List\n",
    "\n",
    "nums = [-1,-2]\n",
    "\n",
    "class Solution:\n",
    "    def maxSubArray(self, nums: List[int]) -> int:\n",
    "        \n",
    "        if len(nums) == 1:\n",
    "            return nums[0]\n",
    "        \n",
    "        answer = []\n",
    "        check = nums[0]\n",
    "        answer.append(check)\n",
    "        nums = nums[1:]\n",
    "        for n in nums:\n",
    "            check = max(check+n, n)\n",
    "            answer.append(check)\n",
    "        \n",
    "        return max(answer)\n",
    "    \n",
    "Solution().maxSubArray(nums)"
   ]
  }
 ],
 "metadata": {
  "kernelspec": {
   "display_name": "Python 3",
   "language": "python",
   "name": "python3"
  },
  "language_info": {
   "codemirror_mode": {
    "name": "ipython",
    "version": 3
   },
   "file_extension": ".py",
   "mimetype": "text/x-python",
   "name": "python",
   "nbconvert_exporter": "python",
   "pygments_lexer": "ipython3",
   "version": "3.8.5"
  }
 },
 "nbformat": 4,
 "nbformat_minor": 4
}
