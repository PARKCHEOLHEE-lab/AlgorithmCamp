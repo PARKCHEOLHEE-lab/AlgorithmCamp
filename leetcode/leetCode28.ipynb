{
 "cells": [
  {
   "attachments": {},
   "cell_type": "markdown",
   "metadata": {},
   "source": [
    "![image](https://user-images.githubusercontent.com/83874157/130789374-c5dbd9a4-25c7-49e0-802b-5a636b660572.png)"
   ]
  },
  {
   "cell_type": "code",
   "execution_count": 62,
   "metadata": {},
   "outputs": [
    {
     "data": {
      "text/plain": [
       "1"
      ]
     },
     "execution_count": 62,
     "metadata": {},
     "output_type": "execute_result"
    }
   ],
   "source": [
    "haystack = \"a\"\n",
    "needle = \"a\"\n",
    "\n",
    "haystack = \"\"\n",
    "needle = \"\"\n",
    "\n",
    "haystack = \"hello\"\n",
    "needle = \"ell\"\n",
    "\n",
    "class Solution:\n",
    "    def strStr(self, haystack: str, needle: str) -> int:\n",
    "        \n",
    "        if not needle or haystack == needle:\n",
    "            return 0\n",
    "        \n",
    "        nl = len(needle)\n",
    "        for s in range(len(haystack)):\n",
    "            if s == 0:\n",
    "                check = haystack[:nl]\n",
    "            else:\n",
    "                check = haystack[s:nl+1]\n",
    "                nl += 1\n",
    "                if check == needle:\n",
    "                    return haystack.index(needle)\n",
    "                    break\n",
    "        \n",
    "        return -1\n",
    "    \n",
    "Solution().strStr(haystack, needle)"
   ]
  }
 ],
 "metadata": {
  "kernelspec": {
   "display_name": "Python 3",
   "language": "python",
   "name": "python3"
  },
  "language_info": {
   "codemirror_mode": {
    "name": "ipython",
    "version": 3
   },
   "file_extension": ".py",
   "mimetype": "text/x-python",
   "name": "python",
   "nbconvert_exporter": "python",
   "pygments_lexer": "ipython3",
   "version": "3.8.5"
  }
 },
 "nbformat": 4,
 "nbformat_minor": 4
}
