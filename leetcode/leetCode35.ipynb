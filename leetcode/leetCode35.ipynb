{
 "cells": [
  {
   "cell_type": "markdown",
   "metadata": {},
   "source": [
    "![image](https://user-images.githubusercontent.com/83874157/133206397-faec08d9-2911-4ed6-bf13-fab6f8373cb3.png)"
   ]
  },
  {
   "cell_type": "code",
   "execution_count": 2,
   "metadata": {},
   "outputs": [],
   "source": [
    "from typing import List\n",
    "\n",
    "class Solution:\n",
    "    def searchInsert(self, nums: List[int], target: int) -> int:\n",
    "        \n",
    "        nums_list = nums\n",
    "        if target not in nums_list:\n",
    "            nums_list.append(target)\n",
    "        \n",
    "        nums_list = sorted(nums_list)\n",
    "            \n",
    "        start = 0\n",
    "        end = len(nums_list)-1\n",
    "        \n",
    "        while start <= end:\n",
    "            mid = (start+end)//2\n",
    "            \n",
    "            if target == nums_list[mid]:\n",
    "                return mid\n",
    "            \n",
    "            elif target < nums_list[mid]:\n",
    "                end = mid-1\n",
    "                \n",
    "            elif target > nums_list[mid]:\n",
    "                start = mid+1"
   ]
  }
 ],
 "metadata": {
  "kernelspec": {
   "display_name": "Python 3",
   "language": "python",
   "name": "python3"
  },
  "language_info": {
   "codemirror_mode": {
    "name": "ipython",
    "version": 3
   },
   "file_extension": ".py",
   "mimetype": "text/x-python",
   "name": "python",
   "nbconvert_exporter": "python",
   "pygments_lexer": "ipython3",
   "version": "3.8.5"
  }
 },
 "nbformat": 4,
 "nbformat_minor": 4
}
