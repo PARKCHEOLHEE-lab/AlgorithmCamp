{
 "cells": [
  {
   "cell_type": "code",
   "execution_count": 75,
   "metadata": {},
   "outputs": [
    {
     "data": {
      "text/plain": [
       "'FBABD'"
      ]
     },
     "execution_count": 75,
     "metadata": {},
     "output_type": "execute_result"
    }
   ],
   "source": [
    "scores = [[100, 90,  98,  88, 65],\n",
    "          [50,  45,  99,  85, 77],\n",
    "          [47,  88,  95,  80, 67],\n",
    "          [61,  57,  100, 80, 65],\n",
    "          [24,  90,  94,  75, 65]]\n",
    "\n",
    "def grade_check(mean_score):\n",
    "    \n",
    "    answer = \"\"\n",
    "    grade = \"\"\n",
    "    for score in mean_score:\n",
    "        if score >= 90:\n",
    "            grade = \"A\"\n",
    "        elif 80 <= score < 90:\n",
    "            grade = \"B\"\n",
    "        elif 70 <= score < 80:\n",
    "            grade = \"C\"\n",
    "        elif 50 <= score < 70:\n",
    "            grade = \"D\"\n",
    "        else:\n",
    "            grade = \"F\"\n",
    "        \n",
    "        answer += grade\n",
    "    \n",
    "    return answer\n",
    "\n",
    "def solution(scores):\n",
    "    \n",
    "    mean_score = []\n",
    "    for i, score in enumerate(zip(*scores)):\n",
    "        self = score[i]\n",
    "        total = sum(score)\n",
    "        div_num = len(scores)\n",
    "        \n",
    "        if max(score) == self and score.count(self) == 1:\n",
    "            total -= self\n",
    "            div_num -= 1\n",
    "            \n",
    "        elif min(score) == self and score.count(self) == 1:\n",
    "            total -= self\n",
    "            div_num -= 1\n",
    "        \n",
    "        mean_score.append(total/div_num)\n",
    "    \n",
    "    return grade(mean_score)\n",
    "\n",
    "solution(scores)\n",
    "    "
   ]
  },
  {
   "cell_type": "code",
   "execution_count": 130,
   "metadata": {},
   "outputs": [
    {
     "data": {
      "text/plain": [
       "('FBABD', [45.5, 81.25, 97.2, 81.6, 67.8])"
      ]
     },
     "execution_count": 130,
     "metadata": {},
     "output_type": "execute_result"
    }
   ],
   "source": [
    "scores = [[100, 0,  98,  88, 65],\n",
    "          [50,  45,  99,  85, 77],\n",
    "          [47,  88,  95,  80, 67],\n",
    "          [61,  57,  100, 80, 65],\n",
    "          [24,  90,  94,  75, 65]]\n",
    "\n",
    "def mean(average):\n",
    "    \n",
    "    answer = \"\"\n",
    "    grade = \"\"\n",
    "    for score in average:\n",
    "        if score >= 90:\n",
    "            grade = \"A\"\n",
    "        elif 80 <= score < 90:\n",
    "            grade = \"B\"\n",
    "        elif 70 <= score < 80:\n",
    "            grade = \"C\"\n",
    "        elif 50 <= score < 70:\n",
    "            grade = \"D\"\n",
    "        else:\n",
    "            grade = \"F\"\n",
    "        \n",
    "        answer += grade\n",
    "    \n",
    "    return answer\n",
    "\n",
    "def solution(scores):\n",
    "    \n",
    "    min_max_scores = []\n",
    "    for i in range(len(scores)):\n",
    "        self = scores[i][i]\n",
    "        min_score = min(scores[i])\n",
    "        max_score = max(scores[i])\n",
    "\n",
    "        if self == min_score or self == max_score:\n",
    "            min_max_scores.append(self)\n",
    "            \n",
    "    min_score = min(min_max_scores)\n",
    "    max_score = max(min_max_scores)\n",
    "    \n",
    "    average = []\n",
    "    for i, col in enumerate(zip(*scores)):\n",
    "        divide = len(scores)\n",
    "        self = col[i]\n",
    "        total_score = sum(col)\n",
    "        \n",
    "        if self == min_score or self == max_score:\n",
    "            total_score -= self\n",
    "            divide = len(scores)-1\n",
    "        \n",
    "        average.append(total_score/divide)\n",
    "            \n",
    "    return mean(average), average\n",
    "\n",
    "solution(scores)"
   ]
  }
 ],
 "metadata": {
  "kernelspec": {
   "display_name": "Python 3",
   "language": "python",
   "name": "python3"
  },
  "language_info": {
   "codemirror_mode": {
    "name": "ipython",
    "version": 3
   },
   "file_extension": ".py",
   "mimetype": "text/x-python",
   "name": "python",
   "nbconvert_exporter": "python",
   "pygments_lexer": "ipython3",
   "version": "3.8.5"
  }
 },
 "nbformat": 4,
 "nbformat_minor": 4
}
