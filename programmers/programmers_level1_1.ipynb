{
 "cells": [
  {
   "cell_type": "code",
   "execution_count": 144,
   "metadata": {},
   "outputs": [
    {
     "name": "stdout",
     "output_type": "stream",
     "text": [
      "[[4], [11]]\n"
     ]
    }
   ],
   "source": [
    "arr1 = [[1, 2, 3], [2, 3, 4]]\n",
    "arr2 = [[3, 4, 5], [5, 6, 7]]\n",
    "\n",
    "# arr1 = [[1], [4]]\n",
    "# arr2 = [[3], [7]]\n",
    "\n",
    "def solution(arr1, arr2):\n",
    "    answer = []\n",
    "    \n",
    "    for i in range(len(arr1)):\n",
    "        ans = []\n",
    "        check = []\n",
    "        zip_list = list(zip(arr1[i], arr2[i]))\n",
    "        check.append(zip_list)\n",
    "     \n",
    "        for j in range(len(check[0])):\n",
    "            element = sum(list(check[0][j]))\n",
    "            ans.append(element)\n",
    "            \n",
    "        answer.append(ans)\n",
    "\n",
    "    return answer\n",
    "\n",
    "print(solution(arr1, arr2))"
   ]
  }
 ],
 "metadata": {
  "kernelspec": {
   "display_name": "Python 3",
   "language": "python",
   "name": "python3"
  },
  "language_info": {
   "codemirror_mode": {
    "name": "ipython",
    "version": 3
   },
   "file_extension": ".py",
   "mimetype": "text/x-python",
   "name": "python",
   "nbconvert_exporter": "python",
   "pygments_lexer": "ipython3",
   "version": "3.8.5"
  }
 },
 "nbformat": 4,
 "nbformat_minor": 4
}
