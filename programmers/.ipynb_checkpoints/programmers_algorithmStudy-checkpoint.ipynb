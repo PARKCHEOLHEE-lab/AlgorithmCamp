{
 "cells": [
  {
   "cell_type": "markdown",
   "metadata": {},
   "source": [
    "### Stock Prices (주식가격)\n",
    "> 초 단위로 기록된 주식가격이 담긴 배열 prices가 매개변수로 주어질 때, 가격이 떨어지지 않은 기간은 몇 초인지를 return 하도록 solution 함수를 완성하세요.\n",
    "\n",
    "- 제한사항\n",
    "> prices의 각 가격은 1 이상 10,000 이하인 자연수입니다.\n",
    "> prices의 길이는 2 이상 100,000 이하입니다.\n",
    "- 입출력 예\n",
    "> prices\treturn\n",
    "> [1, 2, 3, 2, 3]\t[4, 3, 1, 1, 0]\n",
    "- 입출력 예 설명\n",
    "> 1초 시점의 ₩1은 끝까지 가격이 떨어지지 않았습니다.<br>\n",
    "> 2초 시점의 ₩2은 끝까지 가격이 떨어지지 않았습니다.<br>\n",
    "> 3초 시점의 ₩3은 1초뒤에 가격이 떨어집니다. 따라서 1초간 가격이 떨어지지 않은 것으로 봅니다.<br>\n",
    "> 4초 시점의 ₩2은 1초간 가격이 떨어지지 않았습니다.<br>\n",
    "> 5초 시점의 ₩3은 0초간 가격이 떨어지지 않았습니다."
   ]
  },
  {
   "cell_type": "code",
   "execution_count": 9,
   "metadata": {},
   "outputs": [],
   "source": [
    "prices = [1, 2, 3, 2, 3]"
   ]
  },
  {
   "cell_type": "code",
   "execution_count": null,
   "metadata": {
    "scrolled": true
   },
   "outputs": [],
   "source": [
    "# 접근 방법 : 대소를 비교해야할 인덱스값을 순차적으로 정리하고 for문에 적용시킬 패턴을 도출했다.\n",
    "\n",
    "[1, 2, 3, 2, 3]     prices[0] <= prices[1,2,3,4]     \n",
    "[1, 2, 3, 2, 3]     prices[1] <= prices[2,3,4]\n",
    "[1, 2, 3, 2, 3]     prices[2] <= prices[3,4]\n",
    "[1, 2, 3, 2, 3]     prices[3] <= prices[4]\n",
    "[1, 2, 3, 2, 3]     prices[4]"
   ]
  },
  {
   "cell_type": "code",
   "execution_count": 10,
   "metadata": {},
   "outputs": [],
   "source": [
    "def solution(prices):\n",
    "    answer = [0] * len(prices)                  # 0을 원소로한 prices의 length만큼의 리스트 생성 : [0 * 5 == [0, 0, 0, 0, 0] \n",
    "    for i in range(len(prices)):                # prices[i]와 prices[j]를 대소비교할 수 있도록 2중 for문 사용\n",
    "        for j in range(i+1, len(prices)):       \n",
    "            if prices[i] <= prices[j]:          # prices[i]가 prices[j]보다 작거나 같으면 미리 생성한 answer[i]에 +1\n",
    "                answer[i] += 1\n",
    "            else:\n",
    "                answer[i] += 1                  # 그 외의 경우에도 1초가 소요됐으므로 +1을 하고 종료\n",
    "                break\n",
    "    return answer"
   ]
  },
  {
   "cell_type": "code",
   "execution_count": 12,
   "metadata": {},
   "outputs": [
    {
     "name": "stdout",
     "output_type": "stream",
     "text": [
      "[4, 3, 1, 1, 0]\n"
     ]
    }
   ],
   "source": [
    "print(solution(prices))"
   ]
  },
  {
   "cell_type": "code",
   "execution_count": 6,
   "metadata": {},
   "outputs": [
    {
     "name": "stdout",
     "output_type": "stream",
     "text": [
      "[0, 0, 0, 0, 0]\n",
      "[0, 1, 0, 1, 0, 1, 0, 1, 0, 1]\n",
      "[0, 1, 3, 0, 1, 3, 0, 1, 3, 0, 1, 3, 0, 1, 3]\n"
     ]
    }
   ],
   "source": [
    "# 리스트에 곱셈을 하면 리스트 내부 원소 기반의 패턴이 생성됨\n",
    "\n",
    "print([0] * 5)\n",
    "print([0, 1] * 5)\n",
    "print([0, 1, 3] * 5)"
   ]
  },
  {
   "cell_type": "markdown",
   "metadata": {},
   "source": [
    "### Function Development (기능 개발)\n",
    "\n",
    "\n",
    "- 프로그래머스 팀에서는 기능 개선 작업을 수행 중입니다. 각 기능은 진도가 100%일 때 서비스에 반영할 수 있습니다.\n",
    "\n",
    "- 또, 각 기능의 개발속도는 모두 다르기 때문에 뒤에 있는 기능이 앞에 있는 기능보다 먼저 개발될 수 있고, 이때 뒤에 있는 기능은 앞에 있는 기능이 배포될 때 함께 배포됩니다.\n",
    "\n",
    "- 먼저 배포되어야 하는 순서대로 작업의 진도가 적힌 정수 배열 progresses와 각 작업의 개발 속도가 적힌 정수 배열 speeds가 주어질 때 각 배포마다 몇 개의 기능이 배포되는지를 return 하도록 solution 함수를 완성하세요.\n",
    "\n",
    "- 제한 사항\n",
    "> 작업의 개수(progresses, speeds배열의 길이)는 100개 이하입니다.<br>\n",
    "> 작업 진도는 100 미만의 자연수입니다.<br>\n",
    "> 작업 속도는 100 이하의 자연수입니다.<br>\n",
    "> 배포는 하루에 한 번만 할 수 있으며, 하루의 끝에 이루어진다고 가정합니다. 예를 들어 진도율이 95%인 작업의 개발 속도가 하루에 4%라면 배포는 2일 뒤에 이루어집니다.<br>\n",
    "\n",
    "- 입출력 예\n",
    "\n",
    "progress : [93, 30, 55]                speeds : [1, 30, 5]            return : [2, 1]<br>\n",
    "progress : [95, 90, 99, 99, 80, 99]    speeds : [1, 1, 1, 1, 1, 1]    return : [1, 3, 2]\n",
    "\n",
    "- 입출력 예 #1\n",
    "> 첫 번째 기능은 93% 완료되어 있고 하루에 1%씩 작업이 가능하므로 7일간 작업 후 배포가 가능합니다.<br>\n",
    "> 두 번째 기능은 30%가 완료되어 있고 하루에 30%씩 작업이 가능하므로 3일간 작업 후 배포가 가능합니다. 하지만 이전 첫 번째 기능이 아직 완성된 상태가 아니기 때문에 첫 번째 기능이 배포되는 7일째 배포됩니다.<br>\n",
    "> 세 번째 기능은 55%가 완료되어 있고 하루에 5%씩 작업이 가능하므로 9일간 작업 후 배포가 가능합니다.<br> \n",
    "> 따라서 7일째에 2개의 기능, 9일째에 1개의 기능이 배포됩니다.\n",
    "\n",
    "- 입출력 예 #2\n",
    "> 모든 기능이 하루에 1%씩 작업이 가능하므로, 작업이 끝나기까지 남은 일수는 각각 5일, 10일, 1일, 1일, 20일, 1일입니다. 어떤 기능이 먼저 완성되었더라도 앞에 있는 모든 기능이 완성되지 않으면 배포가 불가능합니다.<br>\n",
    "> 따라서 5일째에 1개의 기능, 10일째에 3개의 기능, 20일째에 2개의 기능이 배포됩니다.\n",
    "\n"
   ]
  },
  {
   "cell_type": "code",
   "execution_count": null,
   "metadata": {},
   "outputs": [],
   "source": [
    "# 93%program -> 하루에 1% -> 완성까지 7일 / 30%program -> 하루에 30% -> 완성까지 3일 + 4일 / 55%program -> 하루에 5% -> 완성까지 9일\n",
    "\n",
    "# 95% -> 1%d -> 7days / 90% -> 1%d -> 10days / 99% -> 1%d -> 1+3days"
   ]
  },
  {
   "cell_type": "code",
   "execution_count": null,
   "metadata": {},
   "outputs": [],
   "source": [
    "def solution(progresses, speeds):\n",
    "    answer = []\n",
    "    return answer"
   ]
  },
  {
   "cell_type": "code",
   "execution_count": null,
   "metadata": {},
   "outputs": [],
   "source": [
    "progress = [93, 30, 55]\n",
    "speeds = [1, 30, 5]   \n",
    "# return [2, 1]"
   ]
  },
  {
   "cell_type": "code",
   "execution_count": null,
   "metadata": {},
   "outputs": [],
   "source": [
    "for i in range(len(progress)):\n",
    "    print(progress[i] + speeds[i])"
   ]
  },
  {
   "cell_type": "code",
   "execution_count": null,
   "metadata": {},
   "outputs": [],
   "source": [
    "day = 0\n",
    "while True:\n",
    "    if progress[0] < 100:\n",
    "        progress[0] += speeds[0]\n",
    "        day += 1\n",
    "    elif progress[1] < 100:\n",
    "        progress[1] += speeds[1]"
   ]
  },
  {
   "cell_type": "code",
   "execution_count": null,
   "metadata": {},
   "outputs": [],
   "source": [
    "print(progress)\n",
    "print(day)"
   ]
  },
  {
   "cell_type": "code",
   "execution_count": null,
   "metadata": {},
   "outputs": [],
   "source": [
    "def solution(progresses, speeds):\n",
    "    answer = []\n",
    "    \n",
    "    \n",
    "    return answer"
   ]
  }
 ],
 "metadata": {
  "kernelspec": {
   "display_name": "Python 3",
   "language": "python",
   "name": "python3"
  },
  "language_info": {
   "codemirror_mode": {
    "name": "ipython",
    "version": 3
   },
   "file_extension": ".py",
   "mimetype": "text/x-python",
   "name": "python",
   "nbconvert_exporter": "python",
   "pygments_lexer": "ipython3",
   "version": "3.8.5"
  }
 },
 "nbformat": 4,
 "nbformat_minor": 4
}
