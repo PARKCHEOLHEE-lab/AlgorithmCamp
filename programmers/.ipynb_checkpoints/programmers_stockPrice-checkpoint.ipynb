{
 "cells": [
  {
   "cell_type": "markdown",
   "metadata": {},
   "source": [
    "#### 초 단위로 기록된 주식가격이 담긴 배열 prices가 매개변수로 주어질 때, 가격이 떨어지지 않은 기간은 몇 초인지를 return 하도록 solution 함수를 완성하세요.\n",
    "\n",
    "- 제한사항\n",
    "> prices의 각 가격은 1 이상 10,000 이하인 자연수입니다.\n",
    "> prices의 길이는 2 이상 100,000 이하입니다.\n",
    "- 입출력 예\n",
    "> prices\treturn\n",
    "> [1, 2, 3, 2, 3]\t[4, 3, 1, 1, 0]\n",
    "- 입출력 예 설명\n",
    "> 1초 시점의 ₩1은 끝까지 가격이 떨어지지 않았습니다.<br>\n",
    "> 2초 시점의 ₩2은 끝까지 가격이 떨어지지 않았습니다.<br>\n",
    "> 3초 시점의 ₩3은 1초뒤에 가격이 떨어집니다. 따라서 1초간 가격이 떨어지지 않은 것으로 봅니다.<br>\n",
    "> 4초 시점의 ₩2은 1초간 가격이 떨어지지 않았습니다.<br>\n",
    "> 5초 시점의 ₩3은 0초간 가격이 떨어지지 않았습니다."
   ]
  },
  {
   "cell_type": "code",
   "execution_count": 6,
   "metadata": {},
   "outputs": [],
   "source": [
    "prices = [1, 2, 3, 2, 3]"
   ]
  },
  {
   "cell_type": "code",
   "execution_count": null,
   "metadata": {},
   "outputs": [],
   "source": [
    "# 접근 방법 : 대소를 비교해야할 인덱스값을 순차적으로 정리하고 for문에 적용시킬 패턴을 도출했다.\n",
    "\n",
    "[1, 2, 3, 2, 3]     prices[0] <= prices[1,2,3,4]     \n",
    "[1, 2, 3, 2, 3]     prices[1] <= prices[2,3,4]\n",
    "[1, 2, 3, 2, 3]     prices[2] <= prices[3,4]\n",
    "[1, 2, 3, 2, 3]     prices[3] <= prices[4]\n",
    "[1, 2, 3, 2, 3]     prices[4]"
   ]
  },
  {
   "cell_type": "code",
   "execution_count": 47,
   "metadata": {},
   "outputs": [],
   "source": [
    "def solution(prices):\n",
    "    answer = [0] * len(prices)                  # 0을 원소로한 prices의 length만큼의 리스트 생성 : [0 * 5 == [0, 0, 0, 0, 0] \n",
    "    for i in range(len(prices)):                # prices[i]와 prices[j]를 대소비교할 수 있도록 2중 for문 사용\n",
    "        for j in range(i+1, len(prices)):       \n",
    "            if prices[i] <= prices[j]:          # prices[i]가 prices[j]보다 작거나 같으면 미리 생성한 answer[i]에 +1\n",
    "                answer[i] += 1\n",
    "            else:\n",
    "                answer[i] += 1                  # 그 외의 경우에도 1초가 소요됐으므로 +1을 하고 종료\n",
    "                break\n",
    "    return answer"
   ]
  },
  {
   "cell_type": "code",
   "execution_count": 48,
   "metadata": {},
   "outputs": [
    {
     "name": "stdout",
     "output_type": "stream",
     "text": [
      "[4, 3, 1, 1, 0]\n"
     ]
    }
   ],
   "source": [
    "print(answer)"
   ]
  },
  {
   "cell_type": "code",
   "execution_count": 53,
   "metadata": {},
   "outputs": [
    {
     "name": "stdout",
     "output_type": "stream",
     "text": [
      "[0, 0, 0, 0, 0]\n",
      "[0, 1, 0, 1, 0, 1, 0, 1, 0, 1]\n",
      "[0, 1, 3, 0, 1, 3, 0, 1, 3, 0, 1, 3, 0, 1, 3]\n"
     ]
    }
   ],
   "source": [
    "# 리스트에 곱셈을 하면 리스트 내부 원소 기반의 패턴이 생성됨\n",
    "\n",
    "print([0] * 5)\n",
    "print([0, 1] * 5)\n",
    "print([0, 1, 3] * 5)"
   ]
  },
  {
   "cell_type": "code",
   "execution_count": null,
   "metadata": {},
   "outputs": [],
   "source": []
  }
 ],
 "metadata": {
  "kernelspec": {
   "display_name": "Python 3",
   "language": "python",
   "name": "python3"
  },
  "language_info": {
   "codemirror_mode": {
    "name": "ipython",
    "version": 3
   },
   "file_extension": ".py",
   "mimetype": "text/x-python",
   "name": "python",
   "nbconvert_exporter": "python",
   "pygments_lexer": "ipython3",
   "version": "3.8.5"
  }
 },
 "nbformat": 4,
 "nbformat_minor": 4
}
