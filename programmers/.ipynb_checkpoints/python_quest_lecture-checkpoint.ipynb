{
 "cells": [
  {
   "cell_type": "code",
   "execution_count": 35,
   "metadata": {},
   "outputs": [],
   "source": [
    "cards = [1,5,4,3,8,9,10,11,7] # 무작위 카드"
   ]
  },
  {
   "cell_type": "code",
   "execution_count": 36,
   "metadata": {},
   "outputs": [
    {
     "data": {
      "text/plain": [
       "5"
      ]
     },
     "execution_count": 36,
     "metadata": {},
     "output_type": "execute_result"
    }
   ],
   "source": [
    "cards = [1,5,4,3,8,9,10,11,7]\n",
    "\n",
    "def solution(trump):\n",
    "    trump.sort()              # 함수 내에서 정렬이 필수적\n",
    "    left = 0\n",
    "    right = len(trump)-1\n",
    "    \n",
    "    while(left<=right):\n",
    "        mid = (left+right)//2\n",
    "        if trump[mid] == 8:\n",
    "            return mid\n",
    "        elif trump[mid] < 8:\n",
    "            left = mid + 1\n",
    "        elif trump[mid] > 8:\n",
    "            right = mid - 1\n",
    "    return mid\n",
    "\n",
    "solution(cards)"
   ]
  },
  {
   "cell_type": "code",
   "execution_count": null,
   "metadata": {},
   "outputs": [],
   "source": []
  }
 ],
 "metadata": {
  "kernelspec": {
   "display_name": "Python 3",
   "language": "python",
   "name": "python3"
  },
  "language_info": {
   "codemirror_mode": {
    "name": "ipython",
    "version": 3
   },
   "file_extension": ".py",
   "mimetype": "text/x-python",
   "name": "python",
   "nbconvert_exporter": "python",
   "pygments_lexer": "ipython3",
   "version": "3.8.5"
  }
 },
 "nbformat": 4,
 "nbformat_minor": 4
}
