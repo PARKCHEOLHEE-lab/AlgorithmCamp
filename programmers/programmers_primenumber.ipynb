{
 "cells": [
  {
   "attachments": {
    "image.png": {
     "image/png": "[encoded data removed]"
    }
   },
   "cell_type": "markdown",
   "metadata": {},
   "source": [
    "- 한자리 숫자가 적힌 종이 조각이 흩어져있습니다. 흩어진 종이 조각을 붙여 소수를 몇 개 만들 수 있는지 알아내려 합니다.\n",
    "- 각 종이 조각에 적힌 숫자가 적힌 문자열 numbers가 주어졌을 때, 종이 조각으로 만들 수 있는 소수가 몇 개인지 return 하도록 solution 함수를 완성해주세요.\n",
    "\n",
    "> numbers는 길이 1 이상 7 이하인 문자열입니다. <br>\n",
    "> numbers는 0~9까지 숫자만으로 이루어져 있습니다. <br>\n",
    "> \"013\"은 0, 1, 3 숫자가 적힌 종이 조각이 흩어져있다는 의미입니다.\n",
    "\n",
    "<br>\n",
    "\n",
    "- 1번 문제부터 마지막 문제까지의 정답이 순서대로 들은 배열 answers가 주어졌을 때, 가장 많은 문제를 맞힌 사람이 누구인지 배열에 담아 return 하도록 solution 함수를 작성해주세요.\n",
    "\n",
    "\n",
    "\n",
    "- 입출력 예\n",
    "![image.png](attachment:image.png)\n",
    "\n",
    "- 입출력 예 #1\n",
    "\n",
    "> [1, 7]으로는 소수 [7, 17, 71]를 만들 수 있습니다.\n",
    "\n",
    "<br>\n",
    "\n",
    "- 입출력 예 #2\n",
    "\n",
    "> [0, 1, 1]으로는 소수 [11, 101]를 만들 수 있습니다.\n",
    "\n",
    "<br>\n",
    "\n",
    "- 11과 011은 같은 숫자로 취급합니다.\n"
   ]
  },
  {
   "cell_type": "code",
   "execution_count": 126,
   "metadata": {},
   "outputs": [],
   "source": [
    "from itertools import permutations\n",
    "import math"
   ]
  },
  {
   "cell_type": "code",
   "execution_count": 129,
   "metadata": {},
   "outputs": [],
   "source": [
    "numbers = ['1', '7']"
   ]
  },
  {
   "cell_type": "code",
   "execution_count": 132,
   "metadata": {},
   "outputs": [
    {
     "data": {
      "text/plain": [
       "['17', '71']"
      ]
     },
     "execution_count": 132,
     "metadata": {},
     "output_type": "execute_result"
    }
   ],
   "source": [
    "list(map(''.join, permutations(numbers)))"
   ]
  },
  {
   "cell_type": "code",
   "execution_count": 133,
   "metadata": {},
   "outputs": [
    {
     "data": {
      "text/plain": [
       "['1', '7']"
      ]
     },
     "execution_count": 133,
     "metadata": {},
     "output_type": "execute_result"
    }
   ],
   "source": [
    "[n for n in numbers]"
   ]
  },
  {
   "cell_type": "code",
   "execution_count": 174,
   "metadata": {},
   "outputs": [
    {
     "data": {
      "text/plain": [
       "[1, 7, 17, 71]"
      ]
     },
     "execution_count": 174,
     "metadata": {},
     "output_type": "execute_result"
    }
   ],
   "source": [
    "from itertools import permutations\n",
    "\n",
    "numbers = ['1', '7']\n",
    "answer = []                                   \n",
    "nums = [n for n in numbers]                   \n",
    "per = []            \n",
    "\n",
    "for i in range(1, len(numbers)+1):           \n",
    "    per += list(permutations(nums, i))   # 길이가 1인 경우, 2인 경우 모두 \n",
    "\n",
    "new_nums = [int((\"\").join(p)) for p in per]\n",
    "new_nums"
   ]
  },
  {
   "cell_type": "code",
   "execution_count": 173,
   "metadata": {},
   "outputs": [
    {
     "data": {
      "text/plain": [
       "[1, 7, 17, 71]"
      ]
     },
     "execution_count": 173,
     "metadata": {},
     "output_type": "execute_result"
    }
   ],
   "source": [
    "new_nums"
   ]
  },
  {
   "cell_type": "code",
   "execution_count": 166,
   "metadata": {},
   "outputs": [
    {
     "data": {
      "text/plain": [
       "'17'"
      ]
     },
     "execution_count": 166,
     "metadata": {},
     "output_type": "execute_result"
    }
   ],
   "source": [
    "(\"\").join(numbers)"
   ]
  },
  {
   "cell_type": "code",
   "execution_count": 213,
   "metadata": {},
   "outputs": [
    {
     "name": "stdout",
     "output_type": "stream",
     "text": [
      "['152', '125', '512', '521', '215', '251']\n",
      "[('1',), ('5',), ('2',)]\n",
      "[('1', '5'), ('1', '2'), ('5', '1'), ('5', '2'), ('2', '1'), ('2', '5')]\n",
      "[('1', '5', '2'), ('1', '2', '5'), ('5', '1', '2'), ('5', '2', '1'), ('2', '1', '5'), ('2', '5', '1')]\n"
     ]
    }
   ],
   "source": [
    "numlist = ['1', '5', '2']\n",
    "\n",
    "numcase = list(map(''.join, permutations(numlist))) # 한 자리수, 두 자리수인 경우가 배제되어 있음.\n",
    "print(numcase)\n",
    "\n",
    "for i in range(1, len(numlist)+1):\n",
    "    print(list(permutations(numlist, i))) # permutations시킬 길이를 i로 설정"
   ]
  },
  {
   "cell_type": "code",
   "execution_count": 182,
   "metadata": {},
   "outputs": [
    {
     "name": "stdout",
     "output_type": "stream",
     "text": [
      "['1', '5', '2']\n",
      "['15', '12', '51', '52', '21', '25']\n",
      "['152', '125', '512', '521', '215', '251']\n"
     ]
    }
   ],
   "source": [
    "numlist = ['1', '5', '2']\n",
    "\n",
    "list(map(''.join, permutations(numlist))) \n",
    "\n",
    "for i in range(1, len(numlist)+1):\n",
    "    print(list(map(''.join, permutations(numlist, i))))"
   ]
  },
  {
   "cell_type": "code",
   "execution_count": 220,
   "metadata": {},
   "outputs": [
    {
     "name": "stdout",
     "output_type": "stream",
     "text": [
      "['1', '5', '2', '15', '12', '51', '52', '21', '25', '152', '125', '512', '521', '215', '251']\n"
     ]
    }
   ],
   "source": [
    "numlist = ['1', '5', '2']\n",
    "allnum = []\n",
    "list(map(''.join, permutations(numlist))) \n",
    "\n",
    "for i in range(1, len(numlist)+1):\n",
    "    allnum += list(map(''.join, permutations(numlist, i)))    # 빈 리스트 + 채워진 리스트를 하는 개념\n",
    "\n",
    "print(allnum)"
   ]
  },
  {
   "cell_type": "code",
   "execution_count": 221,
   "metadata": {},
   "outputs": [
    {
     "name": "stdout",
     "output_type": "stream",
     "text": [
      "[1, 5, 2, 15, 12, 51, 52, 21, 25, 152, 125, 512, 521, 215, 251]\n"
     ]
    }
   ],
   "source": [
    "allnum = [int(n) for n in allnum]                             # allnum 변수 재지정\n",
    "print(allnum)"
   ]
  },
  {
   "cell_type": "code",
   "execution_count": null,
   "metadata": {},
   "outputs": [],
   "source": []
  }
 ],
 "metadata": {
  "kernelspec": {
   "display_name": "Python 3",
   "language": "python",
   "name": "python3"
  },
  "language_info": {
   "codemirror_mode": {
    "name": "ipython",
    "version": 3
   },
   "file_extension": ".py",
   "mimetype": "text/x-python",
   "name": "python",
   "nbconvert_exporter": "python",
   "pygments_lexer": "ipython3",
   "version": "3.8.5"
  }
 },
 "nbformat": 4,
 "nbformat_minor": 4
}
