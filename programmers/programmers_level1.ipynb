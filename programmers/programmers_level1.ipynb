{
 "cells": [
  {
   "cell_type": "code",
   "execution_count": 144,
   "metadata": {},
   "outputs": [
    {
     "name": "stdout",
     "output_type": "stream",
     "text": [
      "[[4], [11]]\n"
     ]
    }
   ],
   "source": [
    "arr1 = [[1, 2, 3], [2, 3, 4]]\n",
    "arr2 = [[3, 4, 5], [5, 6, 7]]\n",
    "\n",
    "# arr1 = [[1], [4]]\n",
    "# arr2 = [[3], [7]]\n",
    "\n",
    "def solution(arr1, arr2):\n",
    "    answer = []\n",
    "    \n",
    "    for i in range(len(arr1)):\n",
    "        ans = []\n",
    "        check = []\n",
    "        zip_list = list(zip(arr1[i], arr2[i]))\n",
    "        check.append(zip_list)\n",
    "     \n",
    "        for j in range(len(check[0])):\n",
    "            element = sum(list(check[0][j]))\n",
    "            ans.append(element)\n",
    "            \n",
    "        answer.append(ans)\n",
    "\n",
    "    return answer\n",
    "\n",
    "print(solution(arr1, arr2))"
   ]
  },
  {
   "cell_type": "code",
   "execution_count": null,
   "metadata": {},
   "outputs": [],
   "source": [
    "arr = [5,9,7,10]\n",
    "divisor = 11\n",
    "\n",
    "def solution(arr, divisor):\n",
    "    answer = []\n",
    "    \n",
    "    for i in arr:\n",
    "        if i % divisor == 0:\n",
    "            answer.append(i)\n",
    "            \n",
    "    if len(answer) == 0:\n",
    "        answer.append(-1)\n",
    "    \n",
    "    return sorted(answer)\n",
    "\n",
    "solution(arr, divisor)"
   ]
  },
  {
   "cell_type": "code",
   "execution_count": 14,
   "metadata": {},
   "outputs": [
    {
     "data": {
      "text/plain": [
       "[-4, -8]"
      ]
     },
     "execution_count": 14,
     "metadata": {},
     "output_type": "execute_result"
    }
   ],
   "source": [
    "x = -4\n",
    "n = 2\n",
    "\n",
    "def solution(x, n):\n",
    "    answer = []    \n",
    "    X = list(range(1, n+1))\n",
    "    for n in X:\n",
    "        answer.append(x*n)\n",
    "    \n",
    "    return answer\n",
    "\n",
    "solution(x, n)"
   ]
  },
  {
   "cell_type": "code",
   "execution_count": 58,
   "metadata": {},
   "outputs": [
    {
     "data": {
      "text/plain": [
       "3"
      ]
     },
     "execution_count": 58,
     "metadata": {},
     "output_type": "execute_result"
    }
   ],
   "source": [
    "nums = [3,1,2,3]\n",
    "nums = [3,3,3,2,2,2]\n",
    "nums = [3,3,3,2,2,4]\n",
    "\n",
    "def solution(nums):\n",
    "    \n",
    "    div = int(len(nums)/2)\n",
    "    chk = len(set(nums))\n",
    "    \n",
    "    if chk == div:\n",
    "        return div\n",
    "    \n",
    "    elif chk > div:\n",
    "        return div\n",
    "    \n",
    "    elif chk < div:\n",
    "        return chk\n",
    "        \n",
    "solution(nums)"
   ]
  },
  {
   "cell_type": "code",
   "execution_count": 276,
   "metadata": {},
   "outputs": [
    {
     "data": {
      "text/plain": [
       "'CC Cdgdivg  vjdgv'"
      ]
     },
     "execution_count": 276,
     "metadata": {},
     "output_type": "execute_result"
    }
   ],
   "source": [
    "s = \"ZZ Zadafsd  sgads\"\n",
    "n = 3\n",
    "\n",
    "def solution(s, n):\n",
    "    def push(check, minm, maxm):\n",
    "        if check > maxm:\n",
    "            return chr(check-1 + minm - maxm)\n",
    "        else:\n",
    "            return chr(check)\n",
    "    \n",
    "    answer = ''\n",
    "    for letter in s:\n",
    "        if letter.islower():\n",
    "            answer += push(ord(letter)+n, ord(\"a\"), ord(\"z\"))\n",
    "        elif letter.isupper():\n",
    "            answer += push(ord(letter)+n, ord(\"A\"), ord(\"Z\"))\n",
    "        else:\n",
    "            answer += \" \"\n",
    "                \n",
    "    return answer\n",
    "\n",
    "solution(s, n)"
   ]
  }
 ],
 "metadata": {
  "kernelspec": {
   "display_name": "Python 3",
   "language": "python",
   "name": "python3"
  },
  "language_info": {
   "codemirror_mode": {
    "name": "ipython",
    "version": 3
   },
   "file_extension": ".py",
   "mimetype": "text/x-python",
   "name": "python",
   "nbconvert_exporter": "python",
   "pygments_lexer": "ipython3",
   "version": "3.8.5"
  }
 },
 "nbformat": 4,
 "nbformat_minor": 4
}
