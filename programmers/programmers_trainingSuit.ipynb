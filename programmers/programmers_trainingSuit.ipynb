{
 "cells": [
  {
   "cell_type": "markdown",
   "metadata": {},
   "source": [
    "![image](https://user-images.githubusercontent.com/83874157/132083913-d4b5d558-5a96-4211-a298-1968e0e79e80.png)"
   ]
  },
  {
   "cell_type": "code",
   "execution_count": 103,
   "metadata": {},
   "outputs": [
    {
     "data": {
      "text/plain": [
       "5"
      ]
     },
     "execution_count": 103,
     "metadata": {},
     "output_type": "execute_result"
    }
   ],
   "source": [
    "n = 5\n",
    "lost = [2,4,5]\n",
    "reserve = [1,3,5]\n",
    "\n",
    "def solution(n, lost, reserve):\n",
    "    all_student = list(range(1,n+1))\n",
    "    lost_check = list(set(lost) - set(reserve))\n",
    "    resv_check = list(set(reserve) - set(lost))\n",
    "    \n",
    "    for s in resv_check:\n",
    "        bef_num = s-1\n",
    "        aft_num = s+1\n",
    "        \n",
    "        if bef_num in lost_check:\n",
    "            lost_check.pop(lost_check.index(bef_num))\n",
    "        \n",
    "        elif aft_num in lost_check:\n",
    "            lost_check.pop(lost_check.index(aft_num))\n",
    "    \n",
    "    while lost_check:\n",
    "        for s in lost_check:\n",
    "            all_student.remove(s)\n",
    "            lost_check.pop(lost_check.index(s))\n",
    "    \n",
    "    return len(all_student)\n",
    "\n",
    "solution(n, lost, reserve)"
   ]
  }
 ],
 "metadata": {
  "kernelspec": {
   "display_name": "Python 3",
   "language": "python",
   "name": "python3"
  },
  "language_info": {
   "codemirror_mode": {
    "name": "ipython",
    "version": 3
   },
   "file_extension": ".py",
   "mimetype": "text/x-python",
   "name": "python",
   "nbconvert_exporter": "python",
   "pygments_lexer": "ipython3",
   "version": "3.8.5"
  }
 },
 "nbformat": 4,
 "nbformat_minor": 4
}
