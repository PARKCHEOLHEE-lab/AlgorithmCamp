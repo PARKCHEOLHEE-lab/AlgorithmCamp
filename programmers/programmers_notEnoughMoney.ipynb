{
 "cells": [
  {
   "cell_type": "markdown",
   "metadata": {},
   "source": [
    "![image](https://user-images.githubusercontent.com/83874157/131222965-56ee171f-7c7a-434d-a6f7-50d8e1fd9236.png)\n"
   ]
  },
  {
   "cell_type": "code",
   "execution_count": 18,
   "metadata": {},
   "outputs": [
    {
     "data": {
      "text/plain": [
       "0"
      ]
     },
     "execution_count": 18,
     "metadata": {},
     "output_type": "execute_result"
    }
   ],
   "source": [
    "price = 3\n",
    "money = 40\n",
    "count = 4\n",
    "\n",
    "def solution(price, money, count):\n",
    "    \n",
    "    total_price = 0\n",
    "    answer = 0\n",
    "    \n",
    "    for cnt in range(1, count+1):\n",
    "        total_price += cnt*price\n",
    "    \n",
    "    if total_price - money < 0:\n",
    "        return answer\n",
    "    else:\n",
    "        answer = total_price - money\n",
    "    \n",
    "    return answer\n",
    "\n",
    "solution(price, money, count)"
   ]
  }
 ],
 "metadata": {
  "kernelspec": {
   "display_name": "Python 3",
   "language": "python",
   "name": "python3"
  },
  "language_info": {
   "codemirror_mode": {
    "name": "ipython",
    "version": 3
   },
   "file_extension": ".py",
   "mimetype": "text/x-python",
   "name": "python",
   "nbconvert_exporter": "python",
   "pygments_lexer": "ipython3",
   "version": "3.8.5"
  }
 },
 "nbformat": 4,
 "nbformat_minor": 4
}
