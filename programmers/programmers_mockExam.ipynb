{
 "cells": [
  {
   "attachments": {
    "image.png": {
     "image/png": "[encoded data removed]"
    }
   },
   "cell_type": "markdown",
   "metadata": {},
   "source": [
    "- 수포자는 수학을 포기한 사람의 준말입니다. 수포자 삼인방은 모의고사에 수학 문제를 전부 찍으려 합니다. 수포자는 1번 문제부터 마지막 문제까지 다음과 같이 찍습니다.\n",
    "\n",
    "> 1번 수포자가 찍는 방식: 1, 2, 3, 4, 5, 1, 2, 3, 4, 5, ... <br>\n",
    "> 2번 수포자가 찍는 방식: 2, 1, 2, 3, 2, 4, 2, 5, 2, 1, 2, 3, 2, 4, 2, 5, ...<br>\n",
    "> 3번 수포자가 찍는 방식: 3, 3, 1, 1, 2, 2, 4, 4, 5, 5, 3, 3, 1, 1, 2, 2, 4, 4, 5, 5, ...<br>\n",
    "\n",
    "- 1번 문제부터 마지막 문제까지의 정답이 순서대로 들은 배열 answers가 주어졌을 때, 가장 많은 문제를 맞힌 사람이 누구인지 배열에 담아 return 하도록 solution 함수를 작성해주세요.\n",
    "\n",
    "\n",
    "- 제한 사항\n",
    "\n",
    "> 시험은 최대 10,000 문제로 구성되어있습니다.<br>\n",
    "> 문제의 정답은 1, 2, 3, 4, 5중 하나입니다.<br>\n",
    "> 가장 높은 점수를 받은 사람이 여럿일 경우, return하는 값을 오름차순 정렬해주세요.<br>\n",
    "\n",
    "- 입출력 예\n",
    "![image.png](attachment:image.png)\n",
    "\n",
    "\n",
    "- 입출력 예 #1\n",
    "\n",
    "> 수포자 1은 모든 문제를 맞혔습니다.<br>\n",
    "> 수포자 2는 모든 문제를 틀렸습니다.<br>\n",
    "> 수포자 3은 모든 문제를 틀렸습니다.<br> \n",
    "> <br>\n",
    "> 따라서 가장 문제를 많이 맞힌 사람은 수포자 1입니다.\n",
    "\n",
    "- 입출력 예 #2\n",
    "\n",
    "> 모든 사람이 2문제씩을 맞췄습니다.\n"
   ]
  },
  {
   "cell_type": "code",
   "execution_count": 1,
   "metadata": {},
   "outputs": [],
   "source": [
    "def solution(answers):\n",
    "    answer = []\n",
    "    return answer"
   ]
  },
  {
   "cell_type": "code",
   "execution_count": null,
   "metadata": {
    "scrolled": true
   },
   "outputs": [],
   "source": [
    "1번 수포자가 찍는 방식: 1, 2, 3, 4, 5, 1, 2, 3, 4, 5, ...\n",
    "2번 수포자가 찍는 방식: 2, 1, 2, 3, 2, 4, 2, 5, 2, 1, 2, 3, 2, 4, 2, 5, ...\n",
    "3번 수포자가 찍는 방식: 3, 3, 1, 1, 2, 2, 4, 4, 5, 5, 3, 3, 1, 1, 2, 2, 4, 4, 5, 5, ..."
   ]
  },
  {
   "cell_type": "code",
   "execution_count": 109,
   "metadata": {},
   "outputs": [],
   "source": [
    "# 평가를 위해서는 세 학생의 문제 수가 동일해야함.\n",
    "# 답을 찍는 패턴이 중간에 끊기더라도 문제될 것 없어보임.\n",
    "\n",
    "sa1 = 0\n",
    "sa2 = 0\n",
    "sa3 = 0\n",
    "\n",
    "# 쉬운 접근을 위해 문제수를 동일하게 맞춰줌\n",
    "stu1 = [1, 2, 3, 4, 5]\n",
    "stu2 = [2, 1, 2, 3, 2, 4, 2, 5]\n",
    "stu3 = [3, 3, 1, 1, 2, 2, 4, 4, 5, 5]\n",
    "\n",
    "answer1 = [1, 2, 3, 4, 5]  # return [1]\n",
    "answer2 = [1, 3, 2, 4, 2]  # return [1,2,3]"
   ]
  },
  {
   "cell_type": "code",
   "execution_count": null,
   "metadata": {},
   "outputs": [],
   "source": []
  },
  {
   "cell_type": "code",
   "execution_count": 148,
   "metadata": {
    "scrolled": true
   },
   "outputs": [
    {
     "name": "stdout",
     "output_type": "stream",
     "text": [
      "16\n",
      "11\n",
      "8\n"
     ]
    }
   ],
   "source": [
    "# a, b, c = list(zip(stu1*16, answer1*16)), list(zip(stu2*10, answer1*16)), list(zip(stu3*8, answer1*16)) \n",
    "a, b, c = list(zip(stu1*8, answer2*8)), list(zip(stu2*5, answer2*8)), list(zip(stu3*4, answer2*8)) \n",
    "\n",
    "length = len(a)\n",
    "\n",
    "stu1_check = 0\n",
    "stu2_check = 0\n",
    "stu3_check = 0\n",
    "\n",
    "for i in range(length):\n",
    "    if a[i][0] == a[i][1]:\n",
    "        stu1_check += 1\n",
    "        \n",
    "for i in range(length):\n",
    "    if b[i][0] == b[i][1]:\n",
    "        stu2_check += 1\n",
    "\n",
    "for i in range(length):\n",
    "    if c[i][0] == c[i][1]:\n",
    "        stu3_check += 1\n",
    "        \n",
    "print(stu1_check)\n",
    "print(stu2_check)\n",
    "print(stu3_check)"
   ]
  },
  {
   "cell_type": "code",
   "execution_count": 102,
   "metadata": {},
   "outputs": [],
   "source": [
    "def solution(answers):\n",
    "    p = [[1, 2, 3, 4, 5],\n",
    "         [2, 1, 2, 3, 2, 4, 2, 5],\n",
    "         [3, 3, 1, 1, 2, 2, 4, 4, 5, 5]]\n",
    "    s = [0] * len(p)\n",
    "\n",
    "    for q, a in enumerate(answers):\n",
    "        for i, v in enumerate(p):\n",
    "            if a == v[q % len(v)]:\n",
    "                s[i] += 1\n",
    "    return [i + 1 for i, v in enumerate(s) if v == max(s)]"
   ]
  },
  {
   "cell_type": "code",
   "execution_count": 108,
   "metadata": {},
   "outputs": [
    {
     "data": {
      "text/plain": [
       "[1, 2, 3]"
      ]
     },
     "execution_count": 108,
     "metadata": {},
     "output_type": "execute_result"
    }
   ],
   "source": [
    "answers = [1,3,2,4,2]\n",
    "\n",
    "solution(answers)"
   ]
  },
  {
   "cell_type": "code",
   "execution_count": 115,
   "metadata": {},
   "outputs": [
    {
     "name": "stdout",
     "output_type": "stream",
     "text": [
      "[[1, 2, 3, 4, 5], [2, 1, 2, 3, 2, 4, 2, 5], [3, 3, 1, 1, 2, 2, 4, 4, 5, 5]]\n"
     ]
    }
   ],
   "source": [
    "print(p)"
   ]
  },
  {
   "cell_type": "code",
   "execution_count": 117,
   "metadata": {},
   "outputs": [
    {
     "name": "stdout",
     "output_type": "stream",
     "text": [
      "(0, [1, 2, 3, 4, 5])\n",
      "(1, [2, 1, 2, 3, 2, 4, 2, 5])\n",
      "(2, [3, 3, 1, 1, 2, 2, 4, 4, 5, 5])\n"
     ]
    }
   ],
   "source": [
    "for i in enumerate(p):\n",
    "    print(i)"
   ]
  },
  {
   "cell_type": "code",
   "execution_count": 175,
   "metadata": {
    "scrolled": true
   },
   "outputs": [
    {
     "name": "stdout",
     "output_type": "stream",
     "text": [
      "[1, 2, 3]\n"
     ]
    }
   ],
   "source": [
    "answer = [1,3,2,4,2]\n",
    "# answer = [1,2,3,4,5]\n",
    "\n",
    "p = [[1, 2, 3, 4, 5, 1, 2, 3, 4, 5],\n",
    "     [2, 1, 2, 3, 2, 4, 2, 5, 2, 1],\n",
    "     [3, 3, 1, 1, 2, 2, 4, 4, 5, 5]]\n",
    "\n",
    "s = [0] * len(p)\n",
    "\n",
    "for q, a in enumerate(answer):\n",
    "    for i, v in enumerate(p):\n",
    "        if a == v[q % len(v)]:\n",
    "            s[i] += 1\n",
    "print([i + 1 for i, v in enumerate(s) if v == max(s)])"
   ]
  },
  {
   "cell_type": "code",
   "execution_count": 180,
   "metadata": {},
   "outputs": [
    {
     "data": {
      "text/plain": [
       "[0, 0, 0]"
      ]
     },
     "execution_count": 180,
     "metadata": {},
     "output_type": "execute_result"
    }
   ],
   "source": [
    "s = [0] * len(p)\n",
    "\n",
    "s"
   ]
  },
  {
   "cell_type": "code",
   "execution_count": 196,
   "metadata": {
    "scrolled": true
   },
   "outputs": [
    {
     "name": "stdout",
     "output_type": "stream",
     "text": [
      "[1, 2, 3, 4, 5, 1, 2, 3, 4, 5] 1\n",
      "[2, 1, 2, 3, 2, 4, 2, 5, 2, 1] 1\n",
      "[3, 3, 1, 1, 2, 2, 4, 4, 5, 5] 1\n",
      "[1, 2, 3, 4, 5, 1, 2, 3, 4, 5] 3\n",
      "[2, 1, 2, 3, 2, 4, 2, 5, 2, 1] 3\n",
      "[3, 3, 1, 1, 2, 2, 4, 4, 5, 5] 3\n",
      "[1, 2, 3, 4, 5, 1, 2, 3, 4, 5] 2\n",
      "[2, 1, 2, 3, 2, 4, 2, 5, 2, 1] 2\n",
      "[3, 3, 1, 1, 2, 2, 4, 4, 5, 5] 2\n",
      "[1, 2, 3, 4, 5, 1, 2, 3, 4, 5] 4\n",
      "[2, 1, 2, 3, 2, 4, 2, 5, 2, 1] 4\n",
      "[3, 3, 1, 1, 2, 2, 4, 4, 5, 5] 4\n",
      "[1, 2, 3, 4, 5, 1, 2, 3, 4, 5] 2\n",
      "[2, 1, 2, 3, 2, 4, 2, 5, 2, 1] 2\n",
      "[3, 3, 1, 1, 2, 2, 4, 4, 5, 5] 2\n"
     ]
    }
   ],
   "source": [
    "for q, a in enumerate(answer):\n",
    "    for i, v in enumerate(p):\n",
    "        print(v, a)"
   ]
  },
  {
   "cell_type": "code",
   "execution_count": 190,
   "metadata": {
    "scrolled": true
   },
   "outputs": [
    {
     "name": "stdout",
     "output_type": "stream",
     "text": [
      "0\n",
      "1\n",
      "2\n",
      "0\n",
      "1\n",
      "2\n",
      "0\n",
      "1\n",
      "2\n",
      "0\n",
      "1\n",
      "2\n",
      "0\n",
      "1\n",
      "2\n"
     ]
    }
   ],
   "source": [
    "for q, a in enumerate(answer):\n",
    "    for i, v in enumerate(p):\n",
    "        print(i)"
   ]
  },
  {
   "cell_type": "code",
   "execution_count": 170,
   "metadata": {
    "scrolled": true
   },
   "outputs": [
    {
     "name": "stdout",
     "output_type": "stream",
     "text": [
      "1\n",
      "2\n",
      "3\n",
      "2\n",
      "1\n",
      "3\n",
      "3\n",
      "2\n",
      "1\n",
      "4\n",
      "3\n",
      "1\n",
      "5\n",
      "2\n",
      "2\n"
     ]
    }
   ],
   "source": [
    "for q, a in enumerate(answer):\n",
    "    for i, v in enumerate(p):\n",
    "        print(v[q % len(v)])"
   ]
  },
  {
   "cell_type": "code",
   "execution_count": 187,
   "metadata": {},
   "outputs": [],
   "source": [
    "a = enumerate([1,3,2,4,2])\n",
    "b = enumerate([[1, 2, 3, 4, 5, 1, 2, 3, 4, 5], [2, 1, 2, 3, 2, 4, 2, 5, 2, 1], [3, 3, 1, 1, 2, 2, 4, 4, 5, 5]])"
   ]
  },
  {
   "cell_type": "code",
   "execution_count": 185,
   "metadata": {},
   "outputs": [
    {
     "data": {
      "text/plain": [
       "[(0, 1), (1, 3), (2, 2), (3, 4), (4, 2)]"
      ]
     },
     "execution_count": 185,
     "metadata": {},
     "output_type": "execute_result"
    }
   ],
   "source": [
    "a"
   ]
  },
  {
   "cell_type": "code",
   "execution_count": 189,
   "metadata": {},
   "outputs": [
    {
     "ename": "TypeError",
     "evalue": "'enumerate' object is not subscriptable",
     "output_type": "error",
     "traceback": [
      "\u001b[1;31m---------------------------------------------------------------------------\u001b[0m",
      "\u001b[1;31mTypeError\u001b[0m                                 Traceback (most recent call last)",
      "\u001b[1;32m<ipython-input-189-54af0eb47770>\u001b[0m in \u001b[0;36m<module>\u001b[1;34m\u001b[0m\n\u001b[1;32m----> 1\u001b[1;33m \u001b[0mb\u001b[0m\u001b[1;33m[\u001b[0m\u001b[1;36m0\u001b[0m\u001b[1;33m]\u001b[0m\u001b[1;33m\u001b[0m\u001b[1;33m\u001b[0m\u001b[0m\n\u001b[0m",
      "\u001b[1;31mTypeError\u001b[0m: 'enumerate' object is not subscriptable"
     ]
    }
   ],
   "source": [
    "b[0]"
   ]
  },
  {
   "cell_type": "code",
   "execution_count": null,
   "metadata": {},
   "outputs": [],
   "source": []
  }
 ],
 "metadata": {
  "kernelspec": {
   "display_name": "Python 3",
   "language": "python",
   "name": "python3"
  },
  "language_info": {
   "codemirror_mode": {
    "name": "ipython",
    "version": 3
   },
   "file_extension": ".py",
   "mimetype": "text/x-python",
   "name": "python",
   "nbconvert_exporter": "python",
   "pygments_lexer": "ipython3",
   "version": "3.8.5"
  }
 },
 "nbformat": 4,
 "nbformat_minor": 4
}
